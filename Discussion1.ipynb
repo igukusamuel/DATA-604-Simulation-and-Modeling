{
 "cells": [
  {
   "cell_type": "markdown",
   "metadata": {},
   "source": [
    "# Course: Data 604 - Simulation and Modeling Techniques\n",
    "\n",
    "### Week 1 Class Discussion\n",
    "\n",
    "#### Description:\n",
    "\n",
    "Write a simulation for a simple game of chance (e.g., drawing cards, rolling one or more dice, etc.) Run the simulation 1000 times and interpret the outcome. Post your code here, and discuss what might be done to improve it.\n",
    "\n",
    "Work done:\n",
    "\n",
    "I will create a simulation model for a fair coin flip. We will specify the number of flips and store the results for evaluation. We will simulate different number of flips on an incremental basis and conclude on any observable trend.\n"
   ]
  },
  {
   "cell_type": "code",
   "execution_count": 1,
   "metadata": {},
   "outputs": [],
   "source": [
    "import random\n",
    "def heads_or_tails(no_of_flips):\n",
    "    tails_count = 0\n",
    "    tails_count_hist = [0] * no_of_flips\n",
    "    heads_count = 0\n",
    "    heads_count_hist = [0] * no_of_flips\n",
    "    \n",
    "    for i in range(no_of_flips):\n",
    "        rand = random.randint(1,2)\n",
    "        if rand == 1:\n",
    "            tails_count += 1\n",
    "            tails_count_hist[i] = rand\n",
    "            #print(tails_count, 'tails')\n",
    "        else:\n",
    "            heads_count += 1\n",
    "            heads_count_hist[i] = rand\n",
    "            #print(heads_count, 'heads')\n",
    "    print('probability of tails equals', round((tails_count / no_of_flips),2), 'vs expected value of 0.50')\n",
    "    print('probability of heads equals', round((heads_count / no_of_flips),2), 'vs expected value of 0.50')\n",
    "    #print(heads_count_hist)\n",
    "    #print(tails_count_hist)"
   ]
  },
  {
   "cell_type": "code",
   "execution_count": 2,
   "metadata": {},
   "outputs": [
    {
     "name": "stdout",
     "output_type": "stream",
     "text": [
      "probability of tails equals 0.6 vs expected value of 0.50\n",
      "probability of heads equals 0.4 vs expected value of 0.50\n"
     ]
    }
   ],
   "source": [
    "# One hundred flips\n",
    "heads_or_tails(10)"
   ]
  },
  {
   "cell_type": "code",
   "execution_count": 3,
   "metadata": {},
   "outputs": [
    {
     "name": "stdout",
     "output_type": "stream",
     "text": [
      "probability of tails equals 0.5 vs expected value of 0.50\n",
      "probability of heads equals 0.5 vs expected value of 0.50\n"
     ]
    }
   ],
   "source": [
    "# Two hundred flips\n",
    "heads_or_tails(20)"
   ]
  },
  {
   "cell_type": "code",
   "execution_count": 4,
   "metadata": {},
   "outputs": [
    {
     "name": "stdout",
     "output_type": "stream",
     "text": [
      "probability of tails equals 0.38 vs expected value of 0.50\n",
      "probability of heads equals 0.62 vs expected value of 0.50\n"
     ]
    }
   ],
   "source": [
    "# One thousand flips\n",
    "heads_or_tails(100)"
   ]
  },
  {
   "cell_type": "code",
   "execution_count": 5,
   "metadata": {},
   "outputs": [
    {
     "name": "stdout",
     "output_type": "stream",
     "text": [
      "probability of tails equals 0.47 vs expected value of 0.50\n",
      "probability of heads equals 0.53 vs expected value of 0.50\n"
     ]
    }
   ],
   "source": [
    "# Five thousand flips\n",
    "heads_or_tails(500)"
   ]
  },
  {
   "cell_type": "code",
   "execution_count": 6,
   "metadata": {},
   "outputs": [
    {
     "name": "stdout",
     "output_type": "stream",
     "text": [
      "probability of tails equals 0.5 vs expected value of 0.50\n",
      "probability of heads equals 0.5 vs expected value of 0.50\n"
     ]
    }
   ],
   "source": [
    "# Ten thousand flips\n",
    "data = heads_or_tails(10000)"
   ]
  },
  {
   "cell_type": "markdown",
   "metadata": {},
   "source": [
    "# Conclusion:\n",
    "\n",
    "The outcome/probability of flipping and landing either side of an unbiased coin is expected to be 0.5.\n",
    "\n",
    "From the simulations above its clear that the higher the muner of flips the closer we get to this expectation.\n",
    "    \n",
    "This model can be improved bu visualizing the results and allowing for the analysis of a biased coin."
   ]
  }
 ],
 "metadata": {
  "kernelspec": {
   "display_name": "Python 3",
   "language": "python",
   "name": "python3"
  },
  "language_info": {
   "codemirror_mode": {
    "name": "ipython",
    "version": 3
   },
   "file_extension": ".py",
   "mimetype": "text/x-python",
   "name": "python",
   "nbconvert_exporter": "python",
   "pygments_lexer": "ipython3",
   "version": "3.7.4"
  }
 },
 "nbformat": 4,
 "nbformat_minor": 2
}
